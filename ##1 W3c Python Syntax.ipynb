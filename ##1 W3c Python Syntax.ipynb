{
 "cells": [
  {
   "cell_type": "markdown",
   "id": "517e6cf8",
   "metadata": {},
   "source": [
    "##### PYTHON INDENTATION"
   ]
  },
  {
   "cell_type": "code",
   "execution_count": 4,
   "id": "3a4b8b81",
   "metadata": {},
   "outputs": [
    {
     "name": "stdout",
     "output_type": "stream",
     "text": [
      "five is greater than two\n"
     ]
    }
   ],
   "source": [
    "#Indentation refers to the spaces at the beginning of a code.\n",
    "\n",
    "# Python uses indentation to indicate a block of code.\n",
    "\n",
    "if 5 > 2:\n",
    "     print(\"five is greater than two\")\n",
    "    \n",
    "    "
   ]
  },
  {
   "cell_type": "code",
   "execution_count": 3,
   "id": "26501366",
   "metadata": {},
   "outputs": [
    {
     "ename": "IndentationError",
     "evalue": "expected an indented block (<ipython-input-3-7cb0d6083088>, line 3)",
     "output_type": "error",
     "traceback": [
      "\u001b[1;36m  File \u001b[1;32m\"<ipython-input-3-7cb0d6083088>\"\u001b[1;36m, line \u001b[1;32m3\u001b[0m\n\u001b[1;33m    print ('five is greater than two!')\u001b[0m\n\u001b[1;37m    ^\u001b[0m\n\u001b[1;31mIndentationError\u001b[0m\u001b[1;31m:\u001b[0m expected an indented block\n"
     ]
    }
   ],
   "source": [
    "# Pyhton will give you an error if you skip the indentation\n",
    "\n",
    "if 5 > 2:\n",
    "print ('five is greater than two!')"
   ]
  },
  {
   "cell_type": "code",
   "execution_count": 2,
   "id": "82591edf",
   "metadata": {},
   "outputs": [
    {
     "name": "stdout",
     "output_type": "stream",
     "text": [
      "five is greater than two!\n",
      "five is greater than two!\n"
     ]
    }
   ],
   "source": [
    "# The number of spaces is up to you as a programmer, but it has to be at least one\n",
    "\n",
    "if 5 > 2:\n",
    "    print ('five is greater than two!')\n",
    "    \n",
    "if 5 > 2:\n",
    "                    print ('five is greater than two!')\n",
    " "
   ]
  },
  {
   "cell_type": "code",
   "execution_count": 12,
   "id": "bc39f8e3",
   "metadata": {},
   "outputs": [
    {
     "ename": "IndentationError",
     "evalue": "unexpected indent (<ipython-input-12-4cc1015b953b>, line 5)",
     "output_type": "error",
     "traceback": [
      "\u001b[1;36m  File \u001b[1;32m\"<ipython-input-12-4cc1015b953b>\"\u001b[1;36m, line \u001b[1;32m5\u001b[0m\n\u001b[1;33m    print ('five is greater than two!')\u001b[0m\n\u001b[1;37m    ^\u001b[0m\n\u001b[1;31mIndentationError\u001b[0m\u001b[1;31m:\u001b[0m unexpected indent\n"
     ]
    }
   ],
   "source": [
    "# You have to use the same number of spaces in the same block of code, otherwise python will give an error:\n",
    "\n",
    "if 5 > 2:\n",
    "    print ('five is greater than two!')\n",
    "        print ('five is greater than two!')\n",
    "  \n",
    "\n",
    "    \n",
    "    \n",
    " "
   ]
  },
  {
   "cell_type": "code",
   "execution_count": null,
   "id": "662ffafe",
   "metadata": {},
   "outputs": [],
   "source": []
  }
 ],
 "metadata": {
  "kernelspec": {
   "display_name": "Python 3",
   "language": "python",
   "name": "python3"
  },
  "language_info": {
   "codemirror_mode": {
    "name": "ipython",
    "version": 3
   },
   "file_extension": ".py",
   "mimetype": "text/x-python",
   "name": "python",
   "nbconvert_exporter": "python",
   "pygments_lexer": "ipython3",
   "version": "3.8.8"
  }
 },
 "nbformat": 4,
 "nbformat_minor": 5
}
